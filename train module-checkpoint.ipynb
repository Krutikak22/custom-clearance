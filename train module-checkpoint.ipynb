{
 "cells": [
  {
   "cell_type": "code",
   "execution_count": 19,
   "id": "ce8a0299-f1d3-4253-9c21-29cacb59ce55",
   "metadata": {},
   "outputs": [
    {
     "name": "stdout",
     "output_type": "stream",
     "text": [
      "⚠️ Unsupported file type: \n",
      "                                                text                     label\n",
      "0  Dats BILL OF LADING Page 1 of\\n\\nName Bill of ...            bill of lading\n",
      "1  6\\nDate:\\nBILL OF LADING\\nPage 1 of ______\\nSH...            bill of lading\n",
      "2  Certificate of Origin Template\\n\\nCertificate ...  certificate-of-origin-eg\n",
      "3   \\n \\nAttachment 3-3-1 \\nOriginal /Duplicate \\...     certificate of origin\n",
      "4   \\n \\n \\nIf there is a designated broker for t...        commercial invoice\n",
      "                       precision    recall  f1-score   support\n",
      "\n",
      "       bill of lading       0.00      0.00      0.00         1\n",
      "certificate of origin       0.00      0.00      0.00         0\n",
      "         packing list       1.00      1.00      1.00         1\n",
      "\n",
      "             accuracy                           0.50         2\n",
      "            macro avg       0.33      0.33      0.33         2\n",
      "         weighted avg       0.50      0.50      0.50         2\n",
      "\n"
     ]
    },
    {
     "name": "stderr",
     "output_type": "stream",
     "text": [
      "C:\\Users\\kruti\\AppData\\Roaming\\Python\\Python310\\site-packages\\sklearn\\metrics\\_classification.py:1471: UndefinedMetricWarning: Precision and F-score are ill-defined and being set to 0.0 in labels with no predicted samples. Use `zero_division` parameter to control this behavior.\n",
      "  _warn_prf(average, modifier, msg_start, len(result))\n",
      "C:\\Users\\kruti\\AppData\\Roaming\\Python\\Python310\\site-packages\\sklearn\\metrics\\_classification.py:1471: UndefinedMetricWarning: Recall and F-score are ill-defined and being set to 0.0 in labels with no true samples. Use `zero_division` parameter to control this behavior.\n",
      "  _warn_prf(average, modifier, msg_start, len(result))\n",
      "C:\\Users\\kruti\\AppData\\Roaming\\Python\\Python310\\site-packages\\sklearn\\metrics\\_classification.py:1471: UndefinedMetricWarning: Precision and F-score are ill-defined and being set to 0.0 in labels with no predicted samples. Use `zero_division` parameter to control this behavior.\n",
      "  _warn_prf(average, modifier, msg_start, len(result))\n",
      "C:\\Users\\kruti\\AppData\\Roaming\\Python\\Python310\\site-packages\\sklearn\\metrics\\_classification.py:1471: UndefinedMetricWarning: Recall and F-score are ill-defined and being set to 0.0 in labels with no true samples. Use `zero_division` parameter to control this behavior.\n",
      "  _warn_prf(average, modifier, msg_start, len(result))\n",
      "C:\\Users\\kruti\\AppData\\Roaming\\Python\\Python310\\site-packages\\sklearn\\metrics\\_classification.py:1471: UndefinedMetricWarning: Precision and F-score are ill-defined and being set to 0.0 in labels with no predicted samples. Use `zero_division` parameter to control this behavior.\n",
      "  _warn_prf(average, modifier, msg_start, len(result))\n",
      "C:\\Users\\kruti\\AppData\\Roaming\\Python\\Python310\\site-packages\\sklearn\\metrics\\_classification.py:1471: UndefinedMetricWarning: Recall and F-score are ill-defined and being set to 0.0 in labels with no true samples. Use `zero_division` parameter to control this behavior.\n",
      "  _warn_prf(average, modifier, msg_start, len(result))\n"
     ]
    },
    {
     "data": {
      "text/plain": [
       "['customs_doc_classifier.pkl']"
      ]
     },
     "execution_count": 19,
     "metadata": {},
     "output_type": "execute_result"
    }
   ],
   "source": [
    "import os\n",
    "import fitz\n",
    "import pandas as pd\n",
    "from PIL import Image\n",
    "from docx import Document\n",
    "\n",
    "import pytesseract \n",
    "\n",
    "from sklearn.model_selection import train_test_split\n",
    "from sklearn.feature_extraction.text import TfidfVectorizer\n",
    "from sklearn.naive_bayes import MultinomialNB\n",
    "from sklearn.pipeline import make_pipeline\n",
    "from sklearn.metrics import classification_report\n",
    "import joblib\n",
    "\n",
    "# ✅ Set path to Tesseract OCR executable\n",
    "pytesseract.pytesseract.tesseract_cmd = r\"C:\\Program Files\\Tesseract-OCR\\tesseract.exe\"\n",
    "\n",
    "# 📄 Extract text from PDF\n",
    "def extract_text_from_pdf(pdf_path):\n",
    "    doc = fitz.open(pdf_path)\n",
    "    return \" \".join(page.get_text() for page in doc)\n",
    "\n",
    "# 🖼️ Extract text from image using pytesseract\n",
    "def extract_text_from_image(image_path):\n",
    "    image = Image.open(image_path)\n",
    "    return pytesseract.image_to_string(image)\n",
    "\n",
    "# 📃 Extract text from DOCX\n",
    "def extract_text_from_docx(docx_path):\n",
    "    doc = Document(docx_path)\n",
    "    return \"\\n\".join([para.text for para in doc.paragraphs])\n",
    "\n",
    "# 🧠 Smart file handler\n",
    "def extract_text_from_file(file_path):\n",
    "    ext = os.path.splitext(file_path)[1].lower()\n",
    "    if ext == '.pdf':\n",
    "        return extract_text_from_pdf(file_path)\n",
    "    elif ext in ['.jpg', '.jpeg', '.png']:\n",
    "        return extract_text_from_image(file_path)\n",
    "    elif ext == '.docx':\n",
    "        return extract_text_from_docx(file_path)\n",
    "    else:\n",
    "        print(f\"⚠️ Unsupported file type: {ext}\")\n",
    "        return \"\"\n",
    "\n",
    "# 📂 Load and label documents\n",
    "def load_documents(folder_path):\n",
    "    data = []\n",
    "    for filename in os.listdir(folder_path):\n",
    "        file_path = os.path.join(folder_path, filename)\n",
    "        text = extract_text_from_file(file_path)\n",
    "        if text.strip():  # Only keep non-empty docs\n",
    "            label = filename.replace(os.path.splitext(filename)[1], \"\").replace(\"_\", \" \").lower()\n",
    "            data.append((text, label))\n",
    "    return pd.DataFrame(data, columns=[\"text\", \"label\"])\n",
    "\n",
    "# 🚀 Load data\n",
    "df = load_documents(\"./my_docs/\")\n",
    "print(df.head())\n",
    "\n",
    "# 🔍 Train-test split\n",
    "X_train, X_test, y_train, y_test = train_test_split(df[\"text\"], df[\"label\"], test_size=0.2, random_state=42)\n",
    "\n",
    "# 🤖 Model pipeline\n",
    "model = make_pipeline(TfidfVectorizer(), MultinomialNB())\n",
    "model.fit(X_train, y_train)\n",
    "\n",
    "# 📊 Evaluate\n",
    "y_pred = model.predict(X_test)\n",
    "print(classification_report(y_test, y_pred))\n",
    "\n",
    "# 💾 Save model\n",
    "joblib.dump(model, \"customs_doc_classifier.pkl\")\n"
   ]
  },
  {
   "cell_type": "code",
   "execution_count": null,
   "id": "e46c871d-29ef-4be0-b045-0a4df8da6881",
   "metadata": {},
   "outputs": [],
   "source": []
  },
  {
   "cell_type": "code",
   "execution_count": null,
   "id": "3ac7d5a9-55e4-4261-92b7-61524730f28a",
   "metadata": {},
   "outputs": [],
   "source": []
  }
 ],
 "metadata": {
  "kernelspec": {
   "display_name": "Python 3 (ipykernel)",
   "language": "python",
   "name": "python3"
  },
  "language_info": {
   "codemirror_mode": {
    "name": "ipython",
    "version": 3
   },
   "file_extension": ".py",
   "mimetype": "text/x-python",
   "name": "python",
   "nbconvert_exporter": "python",
   "pygments_lexer": "ipython3",
   "version": "3.10.0rc2"
  }
 },
 "nbformat": 4,
 "nbformat_minor": 5
}
